{
 "cells": [
  {
   "cell_type": "code",
   "execution_count": null,
   "metadata": {},
   "outputs": [],
   "source": [
    "from llama_index.llms.anthropic import Anthropic\n",
    "from IPython.display import display, Markdown\n",
    "import os"
   ]
  },
  {
   "cell_type": "code",
   "execution_count": null,
   "metadata": {},
   "outputs": [],
   "source": [
    "os.environ[\"ANTHROPIC_API_KEY\"] = ''"
   ]
  },
  {
   "cell_type": "code",
   "execution_count": 18,
   "metadata": {},
   "outputs": [],
   "source": [
    "file_path = '/home/r42/caseWill/datalake/golden/all_transaction.py'\n",
    "\n",
    "# Open the file and read its contents\n",
    "with open(file_path, 'r') as file:\n",
    "    script_content = file.read()\n",
    "\n",
    "prompt = f\"\"\"\n",
    "Desenvolva uma DOCUMENTAÇÃO DETALHADA EM MARKDOWN completa e estruturada para um script que manipula e processa dados. O script inclui operações com variáveis de ambiente, manipulação de datas, execução de operações SQL, e a exportação de dados. Sua tarefa é gerar uma documentação que cubra todos os aspectos relevantes do script, organizada em seções específicas. A documentação deve ser clara, concisa e fornecer detalhes suficientes para que outros desenvolvedores ou analistas de dados possam entender e utilizar o script eficientemente.\n",
    "\n",
    "Seções da Documentação:\n",
    "Título: Deve ser o nome da principal função do script\n",
    "Visão Geral: Forneça uma visão geral do script, explicando seu propósito e como ele funciona de maneira geral.\n",
    "Variáveis de Ambiente: Descreva as variáveis de ambiente que o script utiliza, explicando o propósito de cada uma.\n",
    "Manipulação de Datas: Explique como o script manipula e utiliza datas, incluindo qualquer formatação específica.\n",
    "Operações SQL: Detalhe todas as operações SQL realizadas pelo script, incluindo criações de tabelas, visualizações e procedimentos de inserção ou exportação de dados.\n",
    "Comentários no Código: Discuta a importância dos comentários incluídos no script e explique o significado de comentários chave.\n",
    "Exemplos de Uso: Forneça exemplos práticos de como o script é usado, incluindo exemplos de comandos ou trechos de código.\n",
    "Conclusão: Finalize com a apresentação do schema da tabela e comentário sobre suas colunas.\n",
    "\n",
    "Instruções Adicionais para a LLM:\n",
    "Certifique-se de que a documentação seja fácil de seguir e entender. Use uma linguagem clara e acessível para explicar conceitos técnicos, e garanta que a documentação possa ser útil para usuários tanto técnicos quanto não técnicos. Considerações especiais devem ser dadas à forma como as informações são apresentadas para garantir que elas sejam tanto informativas quanto práticas.\n",
    "\n",
    "Utilize o seguinte código como UNICA FONTE: {script_content}\n",
    "\"\"\"\n",
    "\n",
    "#claude-3-haiku-20240307\n",
    "llm=Anthropic(model=\"claude-3-opus-20240229\",max_tokens=4000, temperature=0.1)\n",
    "output = llm.complete(prompt)\n",
    "\n",
    "\n",
    "file_path = '/home/r42/caseWill/datalake/golden/all_transaction.md'\n",
    "\n",
    "# Writing the text output to a Markdown file\n",
    "with open(file_path, 'w') as file:\n",
    "    file.write(output.text)"
   ]
  },
  {
   "cell_type": "code",
   "execution_count": 20,
   "metadata": {},
   "outputs": [
    {
     "data": {
      "text/markdown": [
       "# Documentação do Script de Manipulação e Processamento de Dados\n",
       "\n",
       "## Visão Geral\n",
       "\n",
       "Este script tem como objetivo principal manipular e processar dados relacionados a transações PIX e informações de clientes. Ele realiza uma série de operações, incluindo a criação de tabelas, visualizações temporárias, inserção de dados e exportação para um arquivo Parquet. O script utiliza variáveis de ambiente para configuração e manipula datas para gerar nomes de arquivos.\n",
       "\n",
       "## Variáveis de Ambiente\n",
       "\n",
       "O script utiliza as seguintes variáveis de ambiente:\n",
       "\n",
       "- `MINIO_GOLDEN`: Caminho para o diretório onde os arquivos Parquet serão exportados.\n",
       "\n",
       "Certifique-se de configurar corretamente a variável de ambiente `MINIO_GOLDEN` antes de executar o script.\n",
       "\n",
       "## Manipulação de Datas\n",
       "\n",
       "O script utiliza a biblioteca `datetime` para manipular datas. A data atual é obtida usando `datetime.now()` e formatada como uma string no formato 'YYYY-MM-DD' usando o método `strftime()`. Essa data formatada é usada para gerar o nome do arquivo Parquet exportado.\n",
       "\n",
       "## Operações SQL\n",
       "\n",
       "O script executa as seguintes operações SQL:\n",
       "\n",
       "1. Criação da tabela `golden.all_transaction`:\n",
       "   - A tabela é criada se ainda não existir.\n",
       "   - A tabela possui colunas para armazenar informações sobre transações PIX e dados dos clientes.\n",
       "   - A coluna `transaction_id` é definida como chave primária.\n",
       "\n",
       "2. Criação da visualização temporária `temp_view_golden_all_transaction`:\n",
       "   - A visualização temporária é criada usando a cláusula `CREATE OR REPLACE TEMP VIEW`.\n",
       "   - A visualização combina dados das tabelas `silver.pix_transaction` e `silver.customer` usando um JOIN baseado na coluna `customer_id`.\n",
       "   - A visualização seleciona colunas específicas das tabelas base.\n",
       "\n",
       "3. Inserção de dados na tabela `golden.all_transaction`:\n",
       "   - Os dados são inseridos na tabela `golden.all_transaction` a partir da visualização temporária `temp_view_golden_all_transaction`.\n",
       "\n",
       "4. Exportação dos dados para um arquivo Parquet:\n",
       "   - Os dados da tabela `golden.all_transaction` são exportados para um arquivo Parquet usando a cláusula `COPY`.\n",
       "   - O arquivo Parquet é salvo no diretório especificado pela variável de ambiente `MINIO_GOLDEN`, com o nome de arquivo gerado a partir da data atual.\n",
       "\n",
       "## Comentários no Código\n",
       "\n",
       "O script inclui comentários para a tabela `golden.all_transaction` e suas colunas. Esses comentários fornecem uma descrição detalhada do propósito da tabela e o significado de cada coluna. Os comentários são aplicados usando as instruções `COMMENT ON TABLE` e `COMMENT ON COLUMN`.\n",
       "\n",
       "## Exemplos de Uso\n",
       "\n",
       "Para usar o script, siga estas etapas:\n",
       "\n",
       "1. Configure a variável de ambiente `MINIO_GOLDEN` com o caminho desejado para exportar os arquivos Parquet.\n",
       "\n",
       "2. Execute o script usando um interpretador Python compatível.\n",
       "\n",
       "Exemplo de comando para executar o script:\n",
       "\n",
       "```bash\n",
       "python nome_do_script.py\n",
       "```\n",
       "\n",
       "O script irá criar a tabela `golden.all_transaction`, inserir os dados combinados das tabelas `silver.pix_transaction` e `silver.customer`, e exportar os dados para um arquivo Parquet no diretório especificado.\n",
       "\n",
       "## Conclusão\n",
       "\n",
       "A tabela `golden.all_transaction` possui o seguinte esquema:\n",
       "\n",
       "```\n",
       "transaction_id (VARCHAR): Identificador único da transação PIX.\n",
       "transaction_date (DATE): Data da transação.\n",
       "transaction_month (INTEGER): Mês numérico da transação.\n",
       "customer_id (INTEGER): Identificador único do cliente.\n",
       "cd_seqlan (INTEGER): Código sequencial do lançamento da transação.\n",
       "transaction_type (VARCHAR): Tipo da transação (PIX ou outro).\n",
       "transaction_value (DOUBLE): Valor monetário da transação.\n",
       "birth_date (DATE): Data de nascimento do cliente.\n",
       "uf_name (VARCHAR): Nome do estado de residência do cliente.\n",
       "uf (VARCHAR): Sigla do estado de residência do cliente.\n",
       "year (INTEGER): Partição de Ano da data da transação.\n",
       "month (INTEGER): Partição de Mês da data da transação.\n",
       "day (INTEGER): Partição de Dia da data da transação.\n",
       "```\n",
       "\n",
       "Essa tabela fornece uma visão abrangente das transações PIX, combinando informações das transações com dados detalhados dos clientes. Ela pode ser usada para análises e relatórios relacionados às atividades financeiras dos clientes envolvendo transações PIX."
      ],
      "text/plain": [
       "<IPython.core.display.Markdown object>"
      ]
     },
     "metadata": {},
     "output_type": "display_data"
    }
   ],
   "source": [
    "display(Markdown(output.text))"
   ]
  }
 ],
 "metadata": {
  "kernelspec": {
   "display_name": "Python 3",
   "language": "python",
   "name": "python3"
  },
  "language_info": {
   "codemirror_mode": {
    "name": "ipython",
    "version": 3
   },
   "file_extension": ".py",
   "mimetype": "text/x-python",
   "name": "python",
   "nbconvert_exporter": "python",
   "pygments_lexer": "ipython3",
   "version": "3.11.9"
  }
 },
 "nbformat": 4,
 "nbformat_minor": 2
}
