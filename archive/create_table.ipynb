{
 "cells": [
  {
   "cell_type": "code",
   "execution_count": 1,
   "metadata": {},
   "outputs": [],
   "source": [
    "from dotenv import load_dotenv\n",
    "import os\n",
    "import sys\n",
    "sys.path.append('/home/r42/caseWill')\n",
    "\n",
    "from tqdm import tqdm\n",
    "from utils.connections import duckdb_load_postgres"
   ]
  },
  {
   "cell_type": "code",
   "execution_count": 2,
   "metadata": {},
   "outputs": [],
   "source": [
    "load_dotenv()\n",
    "PATH_RAW = os.getenv('MINIO_RAW')\n",
    "db = duckdb_load_postgres()"
   ]
  },
  {
   "cell_type": "code",
   "execution_count": 7,
   "metadata": {},
   "outputs": [
    {
     "name": "stderr",
     "output_type": "stream",
     "text": [
      "100%|██████████| 3/3 [00:01<00:00,  1.88it/s]\n"
     ]
    }
   ],
   "source": [
    "create_raw_costumer = \"\"\"\n",
    "    CREATE TABLE IF NOT EXISTS raw.customer (\n",
    "        entry_date          DATE        NULL,\n",
    "        surrogate_key       INTEGER     NULL,\n",
    "        full_name           VARCHAR     NULL,\n",
    "        birth_date          DATE        NULL,\n",
    "        uf_name             VARCHAR     NULL,\n",
    "        uf                  VARCHAR     NULL,\n",
    "        street_name         VARCHAR     NULL\n",
    "    );\n",
    "    \n",
    "    WITH landing AS (\n",
    "        SELECT \n",
    "            * \n",
    "        FROM read_csv_auto('{PATH_RAW}/customer.csv')\n",
    "    )\n",
    "    INSERT INTO raw.customer (\n",
    "        entry_date, \n",
    "        surrogate_key, \n",
    "        full_name, \n",
    "        birth_date, \n",
    "        uf_name, \n",
    "        uf, \n",
    "        street_name\n",
    "    )\n",
    "    SELECT * FROM landing\n",
    "\"\"\"\n",
    "\n",
    "create_raw_core_account = \"\"\"\n",
    "    CREATE TABLE IF NOT EXISTS raw.core_account (\n",
    "        dt_transaction          DATE        NULL,\n",
    "        dt_month                INTEGER     NULL,\n",
    "        surrogate_key           INTEGER     NULL,\n",
    "        cd_seqlan               INTEGER     NULL,\n",
    "        ds_transaction_type     VARCHAR     NULL,\n",
    "        vl_transaction          DOUBLE      NULL,\n",
    "        id_transaction          VARCHAR     NULL\n",
    "    );\n",
    "    \n",
    "    WITH df AS (\n",
    "        SELECT \n",
    "            *\n",
    "        FROM read_csv_auto('{PATH_RAW}/core_account.csv')\n",
    "    )\n",
    "    INSERT INTO raw.core_account (\n",
    "        dt_transaction,\n",
    "        dt_month,\n",
    "        surrogate_key,\n",
    "        cd_seqlan,\n",
    "        ds_transaction_type,\n",
    "        vl_transaction,\n",
    "        id_transaction\n",
    "    )\n",
    "    SELECT * FROM df\n",
    "\"\"\"\n",
    "\n",
    "create_raw_core_pix = \"\"\"\n",
    "    CREATE TABLE IF NOT EXISTS raw.core_pix (\n",
    "        dt_transaction          DATE        NULL,\n",
    "        dt_month                INTEGER     NULL,\n",
    "        cd_seqlan               INTEGER     NULL,\n",
    "        ds_transaction_type     VARCHAR     NULL,\n",
    "        vl_transaction          DOUBLE      NULL,\n",
    "        id_transaction          VARCHAR     NULL\n",
    "    );\n",
    "    \n",
    "    WITH df AS (\n",
    "        SELECT \n",
    "            *\n",
    "        FROM read_csv_auto('{PATH_RAW}/core_pix.csv')\n",
    "    )\n",
    "    INSERT INTO raw.core_pix (\n",
    "        dt_transaction,\n",
    "        dt_month,\n",
    "        cd_seqlan,\n",
    "        ds_transaction_type,\n",
    "        vl_transaction,\n",
    "        id_transaction\n",
    "    )\n",
    "    SELECT * FROM df\n",
    "\"\"\"\n",
    "\n",
    "queries = [\n",
    "    create_raw_costumer,\n",
    "    create_raw_core_pix,\n",
    "    create_raw_core_account,\n",
    "]\n",
    "\n",
    "for query in tqdm(queries):\n",
    "    db.sql(\"USE postgres; \"+query)"
   ]
  }
 ],
 "metadata": {
  "kernelspec": {
   "display_name": "Python 3",
   "language": "python",
   "name": "python3"
  },
  "language_info": {
   "codemirror_mode": {
    "name": "ipython",
    "version": 3
   },
   "file_extension": ".py",
   "mimetype": "text/x-python",
   "name": "python",
   "nbconvert_exporter": "python",
   "pygments_lexer": "ipython3",
   "version": "3.11.9"
  }
 },
 "nbformat": 4,
 "nbformat_minor": 2
}
